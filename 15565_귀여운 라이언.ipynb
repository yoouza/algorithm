{
 "nbformat": 4,
 "nbformat_minor": 2,
 "metadata": {
  "language_info": {
   "name": "python",
   "codemirror_mode": {
    "name": "ipython",
    "version": 3
   },
   "version": "3.6.5-final"
  },
  "orig_nbformat": 2,
  "file_extension": ".py",
  "mimetype": "text/x-python",
  "name": "python",
  "npconvert_exporter": "python",
  "pygments_lexer": "ipython3",
  "version": 3,
  "kernelspec": {
   "name": "python3",
   "display_name": "Python 3"
  }
 },
 "cells": [
  {
   "cell_type": "markdown",
   "metadata": {},
   "source": [
    "# sol\n",
    "10분컷ㅎㅎㅎㅎㅎ"
   ]
  },
  {
   "cell_type": "code",
   "execution_count": 38,
   "metadata": {},
   "outputs": [
    {
     "name": "stdout",
     "output_type": "stream",
     "text": "4\n"
    }
   ],
   "source": [
    "N, K = list(map(int, input().split()))\n",
    "dolls = list(map(int, input().split()))\n",
    "\n",
    "lion = []\n",
    "for i in range(N):\n",
    "    if dolls[i] == 1:\n",
    "        lion.append(i)\n",
    "\n",
    "num = []\n",
    "for i in range(len(lion)-K+1):\n",
    "    num.append(lion[i+K-1] - lion[i] + 1)\n",
    "\n",
    "if len(num) == 0: print(-1)\n",
    "else: print(min(num))"
   ]
  }
 ]
}