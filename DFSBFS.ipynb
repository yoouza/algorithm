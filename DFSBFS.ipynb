{
 "metadata": {
  "language_info": {
   "codemirror_mode": {
    "name": "ipython",
    "version": 3
   },
   "file_extension": ".py",
   "mimetype": "text/x-python",
   "name": "python",
   "nbconvert_exporter": "python",
   "pygments_lexer": "ipython3",
   "version": "3.6.5-final"
  },
  "orig_nbformat": 2,
  "kernelspec": {
   "name": "Python 3.6.5 64-bit ('base': conda)",
   "display_name": "Python 3.6.5 64-bit ('base': conda)",
   "metadata": {
    "interpreter": {
     "hash": "b3ba2566441a7c06988d0923437866b63cedc61552a5af99d1f4fb67d367b25f"
    }
   }
  }
 },
 "nbformat": 4,
 "nbformat_minor": 2,
 "cells": [
  {
   "cell_type": "markdown",
   "metadata": {},
   "source": [
    "# BFS"
   ]
  },
  {
   "cell_type": "code",
   "execution_count": 12,
   "metadata": {},
   "outputs": [
    {
     "output_type": "execute_result",
     "data": {
      "text/plain": [
       "[1, 2, 3, 8, 7, 4, 5, 6]"
      ]
     },
     "metadata": {},
     "execution_count": 12
    }
   ],
   "source": [
    "from collections import deque # list와 유사, queue 구현을 위해 불러옴\n",
    "\n",
    "graph = [\n",
    "    [],         # node 0 (사실은 없는 node이지만 숫자를 맞춰주기 위해)\n",
    "    [2,3,8],    # node 1\n",
    "    [1,7],      # node 2\n",
    "    [1,4,5],    # node 3\n",
    "    [3,5],      # node 4\n",
    "    [3,4],      # node 5\n",
    "    [7],        # node 6\n",
    "    [2,6,8],    # node 7\n",
    "    [1,7]       # node 8\n",
    "]\n",
    "\n",
    "visited = [False]*9 # node 갯수 + 1\n",
    "\n",
    "\n",
    "def bfs(graph, start, visited):\n",
    "    queue = deque([start])\n",
    "    answer = []\n",
    "    visited[start] = True\n",
    "    \n",
    "    while queue: # queue가 빌 때까지 반복\n",
    "        v = queue.popleft() # 맨 앞에 있는 node를 꺼낸다.\n",
    "        answer.append(v)\n",
    "        for i in graph[v]: # 맨 앞에서 꺼낸 node에 연결된 것들을 전부 본다.\n",
    "            if not visited[i]: # 지나가지 않은 애들만\n",
    "                queue.append(i)\n",
    "                visited[i] = True\n",
    "    return answer\n",
    "\n",
    "bfs(graph, 1, visited)"
   ]
  },
  {
   "cell_type": "markdown",
   "metadata": {},
   "source": [
    "# sol. 음료수 얼려 먹기\n",
    "dfs에서의 좌표 개념"
   ]
  },
  {
   "cell_type": "code",
   "execution_count": 3,
   "metadata": {
    "tags": []
   },
   "outputs": [
    {
     "output_type": "stream",
     "name": "stdout",
     "text": [
      "1\n"
     ]
    }
   ],
   "source": [
    "# n, m = map(int, input().split())\n",
    "n, m = 3, 3\n",
    "\n",
    "graph = [[0,0,1],[0,1,0],[1,0,1]]\n",
    "\n",
    "# graph = []\n",
    "# for i in range(n):\n",
    "#     graph.append(list(map(int, input())))\n",
    "\n",
    "def dfs(x, y):\n",
    "    # 종료조건\n",
    "    if x < 0 or y < 0 or x >= n or y >= m:\n",
    "        False \n",
    "    if graph[x][y] == 0:\n",
    "        graph[x][y] = 1 # 방문 처리    \n",
    "        dfs(x-1, y)\n",
    "        dfs(x+1, y)\n",
    "        dfs(x, y+1)\n",
    "        dfs(x, y-1)\n",
    "        return True\n",
    "    return False # 0이 아니라면 그대로 False 반환\n",
    "\n",
    "result = 0\n",
    "for i in range(n):\n",
    "    for j in range(m):\n",
    "        if dfs(i, j):\n",
    "            result += 1\n",
    "\n",
    "print(result)"
   ]
  },
  {
   "cell_type": "markdown",
   "metadata": {},
   "source": [
    "# 미로 탈출\n",
    "최단거리 구하기"
   ]
  },
  {
   "cell_type": "code",
   "execution_count": 40,
   "metadata": {},
   "outputs": [],
   "source": [
    "from collections import deque\n",
    "n, m = 5, 6\n",
    "graph = [\n",
    "    [1,0,1,0,1,0],\n",
    "    [1,1,1,1,1,1],\n",
    "    [0,0,0,0,0,1],\n",
    "    [1,1,1,1,1,1],\n",
    "    [1,1,1,1,1,1]\n",
    "]\n",
    "\n",
    "def bfs(x, y):\n",
    "    queue = deque([(x, y)])\n",
    "    dx = [-1, 1, 0, 0]\n",
    "    dy = [0, 0, 1, -1]\n",
    "    while queue:\n",
    "        x, y = queue.popleft()\n",
    "        for i in range(4):\n",
    "            nx = x + dx[i]\n",
    "            ny = y + dy[i]\n",
    "            if nx < 0 or nx >= n or ny < 0 or ny >= m:\n",
    "                continue\n",
    "            if graph[nx][ny] == 0:\n",
    "                continue\n",
    "            if graph[nx][ny] == 1:\n",
    "                queue.append((nx, ny))\n",
    "                graph[nx][ny] = graph[x][y] + 1\n",
    "    return graph[n-1][m-1]"
   ]
  },
  {
   "cell_type": "code",
   "execution_count": 41,
   "metadata": {},
   "outputs": [
    {
     "output_type": "execute_result",
     "data": {
      "text/plain": [
       "10"
      ]
     },
     "metadata": {},
     "execution_count": 41
    }
   ],
   "source": [
    "print(bfs(0,0))"
   ]
  }
 ]
}