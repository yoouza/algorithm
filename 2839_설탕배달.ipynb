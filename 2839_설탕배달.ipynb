{
 "metadata": {
  "language_info": {
   "codemirror_mode": {
    "name": "ipython",
    "version": 3
   },
   "file_extension": ".py",
   "mimetype": "text/x-python",
   "name": "python",
   "nbconvert_exporter": "python",
   "pygments_lexer": "ipython3",
   "version": "3.6.5-final"
  },
  "orig_nbformat": 2,
  "kernelspec": {
   "name": "Python 3.6.5 64-bit ('base': conda)",
   "display_name": "Python 3.6.5 64-bit ('base': conda)",
   "metadata": {
    "interpreter": {
     "hash": "b3ba2566441a7c06988d0923437866b63cedc61552a5af99d1f4fb67d367b25f"
    }
   }
  }
 },
 "nbformat": 4,
 "nbformat_minor": 2,
 "cells": [
  {
   "cell_type": "markdown",
   "metadata": {},
   "source": [
    "# 설탕 배달\n",
    "dp문제"
   ]
  },
  {
   "cell_type": "code",
   "execution_count": 4,
   "metadata": {},
   "outputs": [
    {
     "output_type": "stream",
     "name": "stdout",
     "text": [
      "4\n"
     ]
    }
   ],
   "source": [
    "N = int(input())\n",
    "INF = 9999\n",
    "\n",
    "def sugar(N):\n",
    "    \n",
    "    cache = [INF for i in range(5001)]\n",
    "    cache[3], cache[5] = 1, 1\n",
    "    \n",
    "    if N >= 6:\n",
    "        for i in range(6, N+1):\n",
    "            cache[i] = min(cache[i-3], cache[i-5]) + 1\n",
    "    \n",
    "    answer = cache[N]\n",
    "    if answer >= INF:\n",
    "        answer = -1\n",
    "    return answer\n",
    "\n",
    "print(sugar(N))"
   ]
  }
 ]
}