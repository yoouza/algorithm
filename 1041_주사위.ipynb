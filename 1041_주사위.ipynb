{
 "nbformat": 4,
 "nbformat_minor": 2,
 "metadata": {
  "language_info": {
   "name": "python",
   "codemirror_mode": {
    "name": "ipython",
    "version": 3
   },
   "version": "3.6.5-final"
  },
  "orig_nbformat": 2,
  "file_extension": ".py",
  "mimetype": "text/x-python",
  "name": "python",
  "npconvert_exporter": "python",
  "pygments_lexer": "ipython3",
  "version": 3,
  "kernelspec": {
   "name": "python3",
   "display_name": "Python 3"
  }
 },
 "cells": [
  {
   "cell_type": "markdown",
   "metadata": {},
   "source": [
    "# sol1\n",
    "N=1인 경우도 고려해야 한다."
   ]
  },
  {
   "cell_type": "code",
   "execution_count": 38,
   "metadata": {},
   "outputs": [
    {
     "name": "stdout",
     "output_type": "stream",
     "text": "36\n"
    }
   ],
   "source": [
    "N = int(input())\n",
    "fig = list(map(int, input().split()))\n",
    "\n",
    "op1 = min(fig[0], fig[5])\n",
    "op2 = min(fig[1], fig[4])\n",
    "op3 = min(fig[2], fig[3])\n",
    "\n",
    "# 세 면의 합\n",
    "sum_of_3 = op1 + op2 + op3\n",
    "# 두 면의 합\n",
    "sum_of_2 = min(op1+op2, op1+op3, op2+op3)\n",
    "# 한 면의 합\n",
    "sum_of_1 = min(fig)\n",
    "\n",
    "if N != 1:\n",
    "    print(4*sum_of_3 + (8*N-12)*sum_of_2 + (N-2)*(5*N-6)*sum_of_1)\n",
    "else:\n",
    "    print(sum(fig)-max(fig))"
   ]
  }
 ]
}