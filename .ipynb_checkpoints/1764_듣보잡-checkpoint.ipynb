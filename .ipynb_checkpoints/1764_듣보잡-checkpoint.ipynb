{
 "cells": [
  {
   "cell_type": "markdown",
   "metadata": {},
   "source": [
    "# sol 1 (시간초과)\n",
    "- $O(n^2)$\n",
    "- `in`은 배열의 원소를 모두 확인하므로 시간이 오래 걸린다."
   ]
  },
  {
   "cell_type": "code",
   "execution_count": 46,
   "metadata": {},
   "outputs": [
    {
     "name": "stdout",
     "output_type": "stream",
     "text": [
      "3 4\n",
      "ohhenrie\n",
      "charlie\n",
      "baesangwook\n",
      "obama\n",
      "baesangwook\n",
      "ohhenrie\n",
      "clinton\n",
      "2\n",
      "baesangwook\n",
      "ohhenrie\n"
     ]
    }
   ],
   "source": [
    "N, M = list(map(int, input().split()))\n",
    "name_N, name_fin = [], []\n",
    "\n",
    "for i in range(N):\n",
    "    name = input()\n",
    "    name_N.append(name)\n",
    "\n",
    "for i in range(M):\n",
    "    name = input()\n",
    "    if name in name_N:\n",
    "        name_fin.append(name)\n",
    "\n",
    "print(len(name_fin))\n",
    "for i in sorted(name_fin):\n",
    "    print(i)"
   ]
  },
  {
   "cell_type": "markdown",
   "metadata": {},
   "source": [
    "# sol 2 (정답)\n",
    "- $O(nlogn)$\n",
    "- 모든 input 값을 리스트 하나에 몰아넣고 sort 시킨다. 그리고 연속되는 단어를 추출해내는 아이디어."
   ]
  },
  {
   "cell_type": "code",
   "execution_count": 86,
   "metadata": {},
   "outputs": [
    {
     "name": "stdout",
     "output_type": "stream",
     "text": [
      "3 4\n",
      "a\n",
      "b\n",
      "c\n",
      "a\n",
      "b\n",
      "c\n",
      "e\n",
      "3\n",
      "a\n",
      "b\n",
      "c\n"
     ]
    }
   ],
   "source": [
    "N, M = list(map(int, input().split()))\n",
    "name, name_fin = [], []\n",
    "\n",
    "for i in range(N+M):\n",
    "    name.append(input())\n",
    "\n",
    "name = sorted(name)\n",
    "for i in range(len(name)-1):\n",
    "    if name[i] == name[i+1]:\n",
    "        name_fin.append(i)\n",
    "\n",
    "print(len(name_fin))\n",
    "for i in name_fin:\n",
    "    print(name[i])"
   ]
  },
  {
   "cell_type": "markdown",
   "metadata": {},
   "source": [
    "# sol 3 (남의 코드)\n",
    "- $O(nlogn)$\n",
    "- `+상수` 만큼 연산이 조금 더 빠르다."
   ]
  },
  {
   "cell_type": "code",
   "execution_count": 2,
   "metadata": {},
   "outputs": [
    {
     "name": "stdout",
     "output_type": "stream",
     "text": [
      "3 4\n",
      "a\n",
      "b\n",
      "c\n",
      "a\n",
      "b\n",
      "c\n",
      "d\n",
      "3\n",
      "a\n",
      "b\n",
      "c\n"
     ]
    }
   ],
   "source": [
    "N, M = list(map(int, input().split()))\n",
    "name, name_fin = [], []\n",
    "\n",
    "for i in range(N+M):\n",
    "    name.append(input())\n",
    "\n",
    "name = sorted(name)\n",
    "\n",
    "for i in range(len(name)-1):\n",
    "    if name[i] == name[i+1]:\n",
    "        name_fin.append(i)\n",
    "        i += 2  # 겹치는 원소는 건너뛰는 코드 추가시켜줌\n",
    "    else:\n",
    "        i += 1\n",
    "\n",
    "print(len(name_fin))\n",
    "for i in name_fin:\n",
    "    print(name[i])"
   ]
  }
 ],
 "metadata": {
  "kernelspec": {
   "display_name": "Python 3",
   "language": "python",
   "name": "python3"
  },
  "language_info": {
   "codemirror_mode": {
    "name": "ipython",
    "version": 3
   },
   "file_extension": ".py",
   "mimetype": "text/x-python",
   "name": "python",
   "nbconvert_exporter": "python",
   "pygments_lexer": "ipython3",
   "version": "3.6.10"
  }
 },
 "nbformat": 4,
 "nbformat_minor": 4
}
