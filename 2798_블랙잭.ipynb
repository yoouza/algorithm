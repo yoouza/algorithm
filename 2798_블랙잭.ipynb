{
 "nbformat": 4,
 "nbformat_minor": 2,
 "metadata": {
  "language_info": {
   "name": "python",
   "codemirror_mode": {
    "name": "ipython",
    "version": 3
   },
   "version": "3.6.5-final"
  },
  "orig_nbformat": 2,
  "file_extension": ".py",
  "mimetype": "text/x-python",
  "name": "python",
  "npconvert_exporter": "python",
  "pygments_lexer": "ipython3",
  "version": 3,
  "kernelspec": {
   "name": "python3",
   "display_name": "Python 3"
  }
 },
 "cells": [
  {
   "cell_type": "markdown",
   "metadata": {},
   "source": [
    "# solution\n",
    "N$C$3의 for문 구현"
   ]
  },
  {
   "cell_type": "code",
   "execution_count": 56,
   "metadata": {},
   "outputs": [
    {
     "name": "stdout",
     "output_type": "stream",
     "text": "24\n"
    }
   ],
   "source": [
    "N, M = map(int, input().split())\n",
    "numbers = list(map(int, input().split()))\n",
    "numbers = sorted(numbers, reverse=True)\n",
    "\n",
    "answers = [0]\n",
    "\n",
    "for a in range(0, N-2):\n",
    "    if (numbers[a] + numbers[a+1] + numbers[a+2]) < answers[-1]:\n",
    "        break\n",
    "    else:\n",
    "        for b in range(a+1, N-1):    \n",
    "            for c in range(b+1, N):\n",
    "                    answer = numbers[a] + numbers[b] + numbers[c]\n",
    "                    if answer <= M and answer > sorted(answers, reverse=True)[0]:\n",
    "                        answers.append(answer)\n",
    "\n",
    "print(answers[-1])"
   ]
  }
 ]
}