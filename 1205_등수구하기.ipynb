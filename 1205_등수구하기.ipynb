{
 "nbformat": 4,
 "nbformat_minor": 2,
 "metadata": {
  "language_info": {
   "name": "python",
   "codemirror_mode": {
    "name": "ipython",
    "version": 3
   },
   "version": "3.6.5-final"
  },
  "orig_nbformat": 2,
  "file_extension": ".py",
  "mimetype": "text/x-python",
  "name": "python",
  "npconvert_exporter": "python",
  "pygments_lexer": "ipython3",
  "version": 3,
  "kernelspec": {
   "name": "python3",
   "display_name": "Python 3"
  }
 },
 "cells": [
  {
   "cell_type": "markdown",
   "metadata": {},
   "source": [
    "# 푸는중.."
   ]
  },
  {
   "cell_type": "code",
   "execution_count": 88,
   "metadata": {},
   "outputs": [
    {
     "name": "stdout",
     "output_type": "stream",
     "text": "3\n"
    }
   ],
   "source": [
    "N = 8\n",
    "score = 70\n",
    "P = 10\n",
    "board = list(map(int, '90 80 70 70 70 70 60 50'.split()))\n",
    "\n",
    "# N, score, P = map(int, input().split())\n",
    "if N > 0:\n",
    "    # board = list(map(int, input().split()))\n",
    "    if board[-1] == score and N == P:\n",
    "        print(-1)\n",
    "    else:\n",
    "        num = 0\n",
    "        for i in range(N):\n",
    "            if board[i] <= score:\n",
    "                rank = i+1\n",
    "                if rank >= P: print(-1)\n",
    "                else: print(rank)\n",
    "                break\n",
    "            else:\n",
    "                num += 1\n",
    "        if num == N:\n",
    "            if N < P:\n",
    "                print(N+1)\n",
    "            else:\n",
    "                print(-1)\n",
    "else:\n",
    "    print(1)"
   ]
  }
 ]
}