{
 "cells": [
  {
   "cell_type": "markdown",
   "metadata": {},
   "source": [
    "# sol 1"
   ]
  },
  {
   "cell_type": "code",
   "execution_count": 13,
   "metadata": {
    "scrolled": false
   },
   "outputs": [
    {
     "name": "stdout",
     "output_type": "stream",
     "text": [
      "3 4\n"
     ]
    }
   ],
   "source": [
    "N, M = list(map(int, input().split()))"
   ]
  },
  {
   "cell_type": "code",
   "execution_count": 14,
   "metadata": {},
   "outputs": [
    {
     "name": "stdout",
     "output_type": "stream",
     "text": [
      "ohhenrie\n",
      "charlie\n",
      "baesangwook\n",
      "obama\n",
      "baesangwook\n",
      "ohhenrie\n",
      "clinton\n"
     ]
    }
   ],
   "source": [
    "name_N, name_M = [], []\n",
    "\n",
    "for i in range(N):\n",
    "    name = input()\n",
    "    name_N.append(name)\n",
    "\n",
    "for i in range(M):\n",
    "    name = input()\n",
    "    name_M.append(name)"
   ]
  },
  {
   "cell_type": "code",
   "execution_count": 42,
   "metadata": {},
   "outputs": [],
   "source": [
    "name_list = []\n",
    "\n",
    "if N > M:\n",
    "    for m in name_M:\n",
    "        if m in name_N:\n",
    "            name_list.append(m)\n",
    "else:\n",
    "    for n in name_N:\n",
    "        if n in name_M:\n",
    "            name_list.append(n)"
   ]
  },
  {
   "cell_type": "code",
   "execution_count": 44,
   "metadata": {},
   "outputs": [
    {
     "name": "stdout",
     "output_type": "stream",
     "text": [
      "2\n",
      "baesangwook\n",
      "ohhenrie\n"
     ]
    }
   ],
   "source": [
    "print(len(name_list))\n",
    "for i in sorted(name_list):\n",
    "    print(i)"
   ]
  },
  {
   "cell_type": "markdown",
   "metadata": {},
   "source": [
    "# sol 2"
   ]
  },
  {
   "cell_type": "code",
   "execution_count": 46,
   "metadata": {},
   "outputs": [
    {
     "name": "stdout",
     "output_type": "stream",
     "text": [
      "3 4\n",
      "ohhenrie\n",
      "charlie\n",
      "baesangwook\n",
      "obama\n",
      "baesangwook\n",
      "ohhenrie\n",
      "clinton\n",
      "2\n",
      "baesangwook\n",
      "ohhenrie\n"
     ]
    }
   ],
   "source": [
    "N, M = list(map(int, input().split()))\n",
    "name_N, name_fin = [], []\n",
    "\n",
    "for i in range(N):\n",
    "    name = input()\n",
    "    name_N.append(name)\n",
    "\n",
    "for i in range(M):\n",
    "    name = input()\n",
    "    if name in name_N:\n",
    "        name_fin.append(name)\n",
    "\n",
    "print(len(name_fin))\n",
    "for i in sorted(name_fin):\n",
    "    print(i)"
   ]
  },
  {
   "cell_type": "markdown",
   "metadata": {},
   "source": [
    "# sol 3"
   ]
  },
  {
   "cell_type": "code",
   "execution_count": 86,
   "metadata": {},
   "outputs": [
    {
     "name": "stdout",
     "output_type": "stream",
     "text": [
      "3 4\n",
      "a\n",
      "b\n",
      "c\n",
      "a\n",
      "b\n",
      "c\n",
      "e\n",
      "3\n",
      "a\n",
      "b\n",
      "c\n"
     ]
    }
   ],
   "source": [
    "N, M = list(map(int, input().split()))\n",
    "name, name_fin = [], []\n",
    "\n",
    "for i in range(N+M):\n",
    "    name.append(input())\n",
    "\n",
    "name = sorted(name)\n",
    "for i in range(len(name)-1):\n",
    "    if name[i] == name[i+1]:\n",
    "        name_fin.append(i)\n",
    "\n",
    "print(len(name_fin))\n",
    "for i in name_fin:\n",
    "    print(name[i])"
   ]
  }
 ],
 "metadata": {
  "kernelspec": {
   "display_name": "Python 3",
   "language": "python",
   "name": "python3"
  },
  "language_info": {
   "codemirror_mode": {
    "name": "ipython",
    "version": 3
   },
   "file_extension": ".py",
   "mimetype": "text/x-python",
   "name": "python",
   "nbconvert_exporter": "python",
   "pygments_lexer": "ipython3",
   "version": "3.6.10"
  }
 },
 "nbformat": 4,
 "nbformat_minor": 4
}
