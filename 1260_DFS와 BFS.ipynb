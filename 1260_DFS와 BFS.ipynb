{
 "metadata": {
  "language_info": {
   "codemirror_mode": {
    "name": "ipython",
    "version": 3
   },
   "file_extension": ".py",
   "mimetype": "text/x-python",
   "name": "python",
   "nbconvert_exporter": "python",
   "pygments_lexer": "ipython3",
   "version": "3.6.5-final"
  },
  "orig_nbformat": 2,
  "kernelspec": {
   "name": "python_defaultSpec_1599122106618",
   "display_name": "Python 3.6.5 64-bit ('base': conda)"
  }
 },
 "nbformat": 4,
 "nbformat_minor": 2,
 "cells": [
  {
   "cell_type": "markdown",
   "metadata": {},
   "source": [
    "# DFS와 BFS\n",
    "- 아이디어: 현재 노드와 연결된 노드를 stack, que에 저장한다."
   ]
  },
  {
   "cell_type": "code",
   "metadata": {
    "tags": []
   },
   "source": [
    "N, M, V = map(int, input().split())\n",
    "\n",
    "graph = {}\n",
    "for i in range(N):\n",
    "    graph[i+1] = []\n",
    "    \n",
    "for i in range(M):\n",
    "    a, b = map(int, input().split())\n",
    "    graph[a].append(b)\n",
    "    graph[b].append(a)\n",
    "\n",
    "for i in graph:\n",
    "    graph[i].sort(reverse=True)\n",
    "\n",
    "visited_node = V\n",
    "visited_dfs = [visited_node]\n",
    "stack = []\n",
    "\n",
    "while True:\n",
    "    children = [child for child in graph[visited_node] if child not in visited_dfs]\n",
    "    stack.extend(children)\n",
    "    if len(stack) > 0:\n",
    "        poped = stack.pop()\n",
    "        if poped not in visited_dfs:\n",
    "            visited_node = poped\n",
    "            visited_dfs.append(visited_node)\n",
    "    else:\n",
    "        break\n",
    "\n",
    "for i in graph:\n",
    "    graph[i].sort()\n",
    "\n",
    "visited_node = V\n",
    "visited_bfs = [visited_node]\n",
    "que = []\n",
    "\n",
    "while True:\n",
    "    children = [child for child in graph[visited_node] if child not in visited_bfs]\n",
    "    que.extend(children)\n",
    "    if len(que) > 0:\n",
    "        poped = que.pop(0)\n",
    "        if poped not in visited_bfs:\n",
    "            visited_node = poped\n",
    "            visited_bfs.append(visited_node)\n",
    "    else:\n",
    "        break\n",
    "\n",
    "for i in visited_dfs:\n",
    "    print(i, end=\" \")\n",
    "print()\n",
    "for i in visited_bfs:\n",
    "    print(i, end=\" \")"
   ],
   "execution_count": 1,
   "outputs": [
    {
     "output_type": "stream",
     "name": "stdout",
     "text": "1 2 4 3 \n1 2 3 4"
    }
   ]
  },
  {
   "cell_type": "code",
   "execution_count": 44,
   "metadata": {
    "tags": []
   },
   "outputs": [
    {
     "output_type": "stream",
     "name": "stdout",
     "text": "1000 999"
    }
   ],
   "source": [
    "for i in visited_dfs:\n",
    "    print(i, end=\" \")"
   ]
  }
 ]
}